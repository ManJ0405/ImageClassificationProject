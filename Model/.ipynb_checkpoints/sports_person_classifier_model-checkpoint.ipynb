{
 "cells": [
  {
   "cell_type": "code",
   "execution_count": 89,
   "id": "78dbf14d-daca-4885-a38f-06d4c4d64747",
   "metadata": {},
   "outputs": [],
   "source": [
    "import cv2\n",
    "import numpy as np\n",
    "import pywt\n",
    "import os\n",
    "import shutil"
   ]
  },
  {
   "cell_type": "code",
   "execution_count": 90,
   "id": "6ccc16c4-ae14-4fa3-80d9-17f73a4742f7",
   "metadata": {},
   "outputs": [],
   "source": [
    "face_cascade = cv2.CascadeClassifier('./opencv/haarcascades/haarcascade_frontalface_default.xml')\n",
    "eye_cascade = cv2.CascadeClassifier('./opencv/haarcascades/haarcascade_eye.xml')"
   ]
  },
  {
   "cell_type": "code",
   "execution_count": 91,
   "id": "4db5a857-c012-4ffd-985d-0d08a7056bdf",
   "metadata": {},
   "outputs": [],
   "source": [
    "def get_cropped_image_if_2_eyes(image_path):\n",
    "    img = cv2.imread(image_path)\n",
    "    gray = cv2.cvtColor(img, cv2.COLOR_BGR2GRAY) \n",
    "    faces = face_cascade.detectMultiScale(gray, 1.3, 5)\n",
    "    for (x,y,w,h) in faces:\n",
    "        roi_gray = gray[y:y+h, x:x+w]\n",
    "        roi_color = img[y:y+h, x:x+w]\n",
    "        eyes = eye_cascade.detectMultiScale(roi_gray)\n",
    "        if len(eyes) >=2:\n",
    "            return roi_color"
   ]
  },
  {
   "cell_type": "code",
   "execution_count": 92,
   "id": "e635c45f-0d43-44e6-8db3-99894daf9790",
   "metadata": {},
   "outputs": [],
   "source": [
    "path_to_data = \"./Dataset/\"\n",
    "path_to_cr_data = \"./Dataset/cropped/\""
   ]
  },
  {
   "cell_type": "code",
   "execution_count": 93,
   "id": "0a3fc9e9-656c-4819-9393-9acb268bf2a0",
   "metadata": {},
   "outputs": [],
   "source": [
    "img_dirs =[]\n",
    "for entry in os.scandir(path_to_data):\n",
    "    if entry.is_dir():\n",
    "        img_dirs.append(entry.path)"
   ]
  },
  {
   "cell_type": "code",
   "execution_count": 94,
   "id": "cb235056-9979-4a8a-8a87-6af8f02147c5",
   "metadata": {},
   "outputs": [],
   "source": [
    "import shutil\n",
    "if os.path.exists(path_to_cr_data):\n",
    "    shutil.rmtree(path_to_cr_data)\n",
    "os.mkdir(path_to_cr_data)"
   ]
  },
  {
   "cell_type": "code",
   "execution_count": 95,
   "id": "99da9321-1f53-4501-8527-df68a6b6fd12",
   "metadata": {},
   "outputs": [
    {
     "name": "stdout",
     "output_type": "stream",
     "text": [
      "Generating cropped images in folder:  ./Dataset/cropped/lionel_messi\n",
      "Generating cropped images in folder:  ./Dataset/cropped/maria_sharapova\n",
      "Generating cropped images in folder:  ./Dataset/cropped/roger_federer\n",
      "Generating cropped images in folder:  ./Dataset/cropped/serena_williams\n",
      "Generating cropped images in folder:  ./Dataset/cropped/virat_kohli\n"
     ]
    }
   ],
   "source": [
    "cropped_image_dirs = []\n",
    "celebrity_file_names_dict = {}\n",
    "\n",
    "for img_dir in img_dirs:\n",
    "    count = 1\n",
    "    celebrity_name = img_dir.split('/')[-1]\n",
    "    celebrity_file_names_dict[celebrity_name] = []\n",
    "\n",
    "    for entry in os.scandir(img_dir):\n",
    "        roi_color = get_cropped_image_if_2_eyes(entry.path)\n",
    "        if roi_color is not None:\n",
    "            cropped_folder = path_to_cr_data + celebrity_name\n",
    "            if not os.path.exists(cropped_folder):\n",
    "                os.mkdir(cropped_folder)\n",
    "                cropped_image_dirs.append(cropped_folder)\n",
    "                print(\"Generating cropped images in folder: \", cropped_folder)\n",
    "                \n",
    "            cropped_file_name = celebrity_name + str(count) + \".png\"\n",
    "            cropped_file_path = cropped_folder + \"/\" + cropped_file_name\n",
    "\n",
    "            cv2.imwrite(cropped_file_path, roi_color)\n",
    "            celebrity_file_names_dict[celebrity_name].append(cropped_file_path)\n",
    "            count+=1"
   ]
  },
  {
   "cell_type": "code",
   "execution_count": 110,
   "id": "f98d5e75-6d2b-49e3-a310-6617629ad024",
   "metadata": {},
   "outputs": [],
   "source": [
    "def w2d(img, mode='haar', level=1):\n",
    "    imArray = img\n",
    "    #Datatype conversions\n",
    "    #convert to grayscale\n",
    "    imArray = cv2.cvtColor( imArray,cv2.COLOR_RGB2GRAY )\n",
    "    #convert to float\n",
    "    imArray =  np.float32(imArray)   \n",
    "    imArray /= 255;\n",
    "    # compute coefficients \n",
    "    coeffs=pywt.wavedec2(imArray, mode, level=level)\n",
    "\n",
    "    #Process Coefficients\n",
    "    coeffs_H=list(coeffs)  \n",
    "    coeffs_H[0] *= 0;  \n",
    "\n",
    "    # reconstruction\n",
    "    imArray_H=pywt.waverec2(coeffs_H, mode);\n",
    "    imArray_H *= 255;\n",
    "    imArray_H =  np.uint8(imArray_H)\n",
    "\n",
    "    return imArray_H"
   ]
  },
  {
   "cell_type": "code",
   "execution_count": 113,
   "id": "ccedede6-66e2-4542-bdb9-86a55175d690",
   "metadata": {},
   "outputs": [
    {
     "data": {
      "text/plain": [
       "{'lionel_messi': ['./Dataset/cropped/lionel_messi\\\\lionel_messi1.png',\n",
       "  './Dataset/cropped/lionel_messi\\\\lionel_messi10.png',\n",
       "  './Dataset/cropped/lionel_messi\\\\lionel_messi11.png',\n",
       "  './Dataset/cropped/lionel_messi\\\\lionel_messi12.png',\n",
       "  './Dataset/cropped/lionel_messi\\\\lionel_messi13.png',\n",
       "  './Dataset/cropped/lionel_messi\\\\lionel_messi14.png',\n",
       "  './Dataset/cropped/lionel_messi\\\\lionel_messi15.png',\n",
       "  './Dataset/cropped/lionel_messi\\\\lionel_messi16.png',\n",
       "  './Dataset/cropped/lionel_messi\\\\lionel_messi17.png',\n",
       "  './Dataset/cropped/lionel_messi\\\\lionel_messi18.png',\n",
       "  './Dataset/cropped/lionel_messi\\\\lionel_messi19.png',\n",
       "  './Dataset/cropped/lionel_messi\\\\lionel_messi2.png',\n",
       "  './Dataset/cropped/lionel_messi\\\\lionel_messi20.png',\n",
       "  './Dataset/cropped/lionel_messi\\\\lionel_messi21.png',\n",
       "  './Dataset/cropped/lionel_messi\\\\lionel_messi22.png',\n",
       "  './Dataset/cropped/lionel_messi\\\\lionel_messi23.png',\n",
       "  './Dataset/cropped/lionel_messi\\\\lionel_messi24.png',\n",
       "  './Dataset/cropped/lionel_messi\\\\lionel_messi25.png',\n",
       "  './Dataset/cropped/lionel_messi\\\\lionel_messi26.png',\n",
       "  './Dataset/cropped/lionel_messi\\\\lionel_messi27.png',\n",
       "  './Dataset/cropped/lionel_messi\\\\lionel_messi28.png',\n",
       "  './Dataset/cropped/lionel_messi\\\\lionel_messi29.png',\n",
       "  './Dataset/cropped/lionel_messi\\\\lionel_messi3.png',\n",
       "  './Dataset/cropped/lionel_messi\\\\lionel_messi30.png',\n",
       "  './Dataset/cropped/lionel_messi\\\\lionel_messi31.png',\n",
       "  './Dataset/cropped/lionel_messi\\\\lionel_messi32.png',\n",
       "  './Dataset/cropped/lionel_messi\\\\lionel_messi33.png',\n",
       "  './Dataset/cropped/lionel_messi\\\\lionel_messi34.png',\n",
       "  './Dataset/cropped/lionel_messi\\\\lionel_messi35.png',\n",
       "  './Dataset/cropped/lionel_messi\\\\lionel_messi36.png',\n",
       "  './Dataset/cropped/lionel_messi\\\\lionel_messi37.png',\n",
       "  './Dataset/cropped/lionel_messi\\\\lionel_messi38.png',\n",
       "  './Dataset/cropped/lionel_messi\\\\lionel_messi39.png',\n",
       "  './Dataset/cropped/lionel_messi\\\\lionel_messi4.png',\n",
       "  './Dataset/cropped/lionel_messi\\\\lionel_messi5.png',\n",
       "  './Dataset/cropped/lionel_messi\\\\lionel_messi6.png',\n",
       "  './Dataset/cropped/lionel_messi\\\\lionel_messi7.png',\n",
       "  './Dataset/cropped/lionel_messi\\\\lionel_messi8.png',\n",
       "  './Dataset/cropped/lionel_messi\\\\lionel_messi9.png'],\n",
       " 'maria_sharapova': ['./Dataset/cropped/maria_sharapova\\\\maria_sharapova1.png',\n",
       "  './Dataset/cropped/maria_sharapova\\\\maria_sharapova10.png',\n",
       "  './Dataset/cropped/maria_sharapova\\\\maria_sharapova11.png',\n",
       "  './Dataset/cropped/maria_sharapova\\\\maria_sharapova12.png',\n",
       "  './Dataset/cropped/maria_sharapova\\\\maria_sharapova13.png',\n",
       "  './Dataset/cropped/maria_sharapova\\\\maria_sharapova14.png',\n",
       "  './Dataset/cropped/maria_sharapova\\\\maria_sharapova15.png',\n",
       "  './Dataset/cropped/maria_sharapova\\\\maria_sharapova16.png',\n",
       "  './Dataset/cropped/maria_sharapova\\\\maria_sharapova17.png',\n",
       "  './Dataset/cropped/maria_sharapova\\\\maria_sharapova18.png',\n",
       "  './Dataset/cropped/maria_sharapova\\\\maria_sharapova19.png',\n",
       "  './Dataset/cropped/maria_sharapova\\\\maria_sharapova2.png',\n",
       "  './Dataset/cropped/maria_sharapova\\\\maria_sharapova20.png',\n",
       "  './Dataset/cropped/maria_sharapova\\\\maria_sharapova21.png',\n",
       "  './Dataset/cropped/maria_sharapova\\\\maria_sharapova22.png',\n",
       "  './Dataset/cropped/maria_sharapova\\\\maria_sharapova23.png',\n",
       "  './Dataset/cropped/maria_sharapova\\\\maria_sharapova24.png',\n",
       "  './Dataset/cropped/maria_sharapova\\\\maria_sharapova25.png',\n",
       "  './Dataset/cropped/maria_sharapova\\\\maria_sharapova26.png',\n",
       "  './Dataset/cropped/maria_sharapova\\\\maria_sharapova27.png',\n",
       "  './Dataset/cropped/maria_sharapova\\\\maria_sharapova28.png',\n",
       "  './Dataset/cropped/maria_sharapova\\\\maria_sharapova29.png',\n",
       "  './Dataset/cropped/maria_sharapova\\\\maria_sharapova3.png',\n",
       "  './Dataset/cropped/maria_sharapova\\\\maria_sharapova30.png',\n",
       "  './Dataset/cropped/maria_sharapova\\\\maria_sharapova31.png',\n",
       "  './Dataset/cropped/maria_sharapova\\\\maria_sharapova32.png',\n",
       "  './Dataset/cropped/maria_sharapova\\\\maria_sharapova33.png',\n",
       "  './Dataset/cropped/maria_sharapova\\\\maria_sharapova34.png',\n",
       "  './Dataset/cropped/maria_sharapova\\\\maria_sharapova35.png',\n",
       "  './Dataset/cropped/maria_sharapova\\\\maria_sharapova4.png',\n",
       "  './Dataset/cropped/maria_sharapova\\\\maria_sharapova5.png',\n",
       "  './Dataset/cropped/maria_sharapova\\\\maria_sharapova6.png',\n",
       "  './Dataset/cropped/maria_sharapova\\\\maria_sharapova7.png',\n",
       "  './Dataset/cropped/maria_sharapova\\\\maria_sharapova8.png',\n",
       "  './Dataset/cropped/maria_sharapova\\\\maria_sharapova9.png'],\n",
       " 'roger_federer': ['./Dataset/cropped/roger_federer\\\\roger_federer1.png',\n",
       "  './Dataset/cropped/roger_federer\\\\roger_federer10.png',\n",
       "  './Dataset/cropped/roger_federer\\\\roger_federer11.png',\n",
       "  './Dataset/cropped/roger_federer\\\\roger_federer12.png',\n",
       "  './Dataset/cropped/roger_federer\\\\roger_federer13.png',\n",
       "  './Dataset/cropped/roger_federer\\\\roger_federer14.png',\n",
       "  './Dataset/cropped/roger_federer\\\\roger_federer15.png',\n",
       "  './Dataset/cropped/roger_federer\\\\roger_federer16.png',\n",
       "  './Dataset/cropped/roger_federer\\\\roger_federer17.png',\n",
       "  './Dataset/cropped/roger_federer\\\\roger_federer18.png',\n",
       "  './Dataset/cropped/roger_federer\\\\roger_federer19.png',\n",
       "  './Dataset/cropped/roger_federer\\\\roger_federer2.png',\n",
       "  './Dataset/cropped/roger_federer\\\\roger_federer20.png',\n",
       "  './Dataset/cropped/roger_federer\\\\roger_federer21.png',\n",
       "  './Dataset/cropped/roger_federer\\\\roger_federer22.png',\n",
       "  './Dataset/cropped/roger_federer\\\\roger_federer23.png',\n",
       "  './Dataset/cropped/roger_federer\\\\roger_federer24.png',\n",
       "  './Dataset/cropped/roger_federer\\\\roger_federer25.png',\n",
       "  './Dataset/cropped/roger_federer\\\\roger_federer26.png',\n",
       "  './Dataset/cropped/roger_federer\\\\roger_federer27.png',\n",
       "  './Dataset/cropped/roger_federer\\\\roger_federer28.png',\n",
       "  './Dataset/cropped/roger_federer\\\\roger_federer29.png',\n",
       "  './Dataset/cropped/roger_federer\\\\roger_federer3.png',\n",
       "  './Dataset/cropped/roger_federer\\\\roger_federer30.png',\n",
       "  './Dataset/cropped/roger_federer\\\\roger_federer4.png',\n",
       "  './Dataset/cropped/roger_federer\\\\roger_federer5.png',\n",
       "  './Dataset/cropped/roger_federer\\\\roger_federer6.png',\n",
       "  './Dataset/cropped/roger_federer\\\\roger_federer7.png',\n",
       "  './Dataset/cropped/roger_federer\\\\roger_federer8.png',\n",
       "  './Dataset/cropped/roger_federer\\\\roger_federer9.png'],\n",
       " 'serena_williams': ['./Dataset/cropped/serena_williams\\\\serena_williams1.png',\n",
       "  './Dataset/cropped/serena_williams\\\\serena_williams10.png',\n",
       "  './Dataset/cropped/serena_williams\\\\serena_williams11.png',\n",
       "  './Dataset/cropped/serena_williams\\\\serena_williams12.png',\n",
       "  './Dataset/cropped/serena_williams\\\\serena_williams13.png',\n",
       "  './Dataset/cropped/serena_williams\\\\serena_williams14.png',\n",
       "  './Dataset/cropped/serena_williams\\\\serena_williams15.png',\n",
       "  './Dataset/cropped/serena_williams\\\\serena_williams16.png',\n",
       "  './Dataset/cropped/serena_williams\\\\serena_williams17.png',\n",
       "  './Dataset/cropped/serena_williams\\\\serena_williams18.png',\n",
       "  './Dataset/cropped/serena_williams\\\\serena_williams19.png',\n",
       "  './Dataset/cropped/serena_williams\\\\serena_williams2.png',\n",
       "  './Dataset/cropped/serena_williams\\\\serena_williams20.png',\n",
       "  './Dataset/cropped/serena_williams\\\\serena_williams21.png',\n",
       "  './Dataset/cropped/serena_williams\\\\serena_williams22.png',\n",
       "  './Dataset/cropped/serena_williams\\\\serena_williams23.png',\n",
       "  './Dataset/cropped/serena_williams\\\\serena_williams24.png',\n",
       "  './Dataset/cropped/serena_williams\\\\serena_williams25.png',\n",
       "  './Dataset/cropped/serena_williams\\\\serena_williams26.png',\n",
       "  './Dataset/cropped/serena_williams\\\\serena_williams27.png',\n",
       "  './Dataset/cropped/serena_williams\\\\serena_williams28.png',\n",
       "  './Dataset/cropped/serena_williams\\\\serena_williams29.png',\n",
       "  './Dataset/cropped/serena_williams\\\\serena_williams3.png',\n",
       "  './Dataset/cropped/serena_williams\\\\serena_williams30.png',\n",
       "  './Dataset/cropped/serena_williams\\\\serena_williams31.png',\n",
       "  './Dataset/cropped/serena_williams\\\\serena_williams32.png',\n",
       "  './Dataset/cropped/serena_williams\\\\serena_williams33.png',\n",
       "  './Dataset/cropped/serena_williams\\\\serena_williams34.png',\n",
       "  './Dataset/cropped/serena_williams\\\\serena_williams4.png',\n",
       "  './Dataset/cropped/serena_williams\\\\serena_williams5.png',\n",
       "  './Dataset/cropped/serena_williams\\\\serena_williams6.png',\n",
       "  './Dataset/cropped/serena_williams\\\\serena_williams7.png',\n",
       "  './Dataset/cropped/serena_williams\\\\serena_williams8.png',\n",
       "  './Dataset/cropped/serena_williams\\\\serena_williams9.png'],\n",
       " 'virat_kohli': ['./Dataset/cropped/virat_kohli\\\\virat_kohli1.png',\n",
       "  './Dataset/cropped/virat_kohli\\\\virat_kohli10.png',\n",
       "  './Dataset/cropped/virat_kohli\\\\virat_kohli11.png',\n",
       "  './Dataset/cropped/virat_kohli\\\\virat_kohli12.png',\n",
       "  './Dataset/cropped/virat_kohli\\\\virat_kohli13.png',\n",
       "  './Dataset/cropped/virat_kohli\\\\virat_kohli14.png',\n",
       "  './Dataset/cropped/virat_kohli\\\\virat_kohli15.png',\n",
       "  './Dataset/cropped/virat_kohli\\\\virat_kohli16.png',\n",
       "  './Dataset/cropped/virat_kohli\\\\virat_kohli17.png',\n",
       "  './Dataset/cropped/virat_kohli\\\\virat_kohli18.png',\n",
       "  './Dataset/cropped/virat_kohli\\\\virat_kohli19.png',\n",
       "  './Dataset/cropped/virat_kohli\\\\virat_kohli2.png',\n",
       "  './Dataset/cropped/virat_kohli\\\\virat_kohli20.png',\n",
       "  './Dataset/cropped/virat_kohli\\\\virat_kohli21.png',\n",
       "  './Dataset/cropped/virat_kohli\\\\virat_kohli22.png',\n",
       "  './Dataset/cropped/virat_kohli\\\\virat_kohli23.png',\n",
       "  './Dataset/cropped/virat_kohli\\\\virat_kohli24.png',\n",
       "  './Dataset/cropped/virat_kohli\\\\virat_kohli25.png',\n",
       "  './Dataset/cropped/virat_kohli\\\\virat_kohli26.png',\n",
       "  './Dataset/cropped/virat_kohli\\\\virat_kohli27.png',\n",
       "  './Dataset/cropped/virat_kohli\\\\virat_kohli28.png',\n",
       "  './Dataset/cropped/virat_kohli\\\\virat_kohli29.png',\n",
       "  './Dataset/cropped/virat_kohli\\\\virat_kohli3.png',\n",
       "  './Dataset/cropped/virat_kohli\\\\virat_kohli30.png',\n",
       "  './Dataset/cropped/virat_kohli\\\\virat_kohli31.png',\n",
       "  './Dataset/cropped/virat_kohli\\\\virat_kohli32.png',\n",
       "  './Dataset/cropped/virat_kohli\\\\virat_kohli33.png',\n",
       "  './Dataset/cropped/virat_kohli\\\\virat_kohli34.png',\n",
       "  './Dataset/cropped/virat_kohli\\\\virat_kohli35.png',\n",
       "  './Dataset/cropped/virat_kohli\\\\virat_kohli36.png',\n",
       "  './Dataset/cropped/virat_kohli\\\\virat_kohli37.png',\n",
       "  './Dataset/cropped/virat_kohli\\\\virat_kohli38.png',\n",
       "  './Dataset/cropped/virat_kohli\\\\virat_kohli39.png',\n",
       "  './Dataset/cropped/virat_kohli\\\\virat_kohli4.png',\n",
       "  './Dataset/cropped/virat_kohli\\\\virat_kohli40.png',\n",
       "  './Dataset/cropped/virat_kohli\\\\virat_kohli41.png',\n",
       "  './Dataset/cropped/virat_kohli\\\\virat_kohli42.png',\n",
       "  './Dataset/cropped/virat_kohli\\\\virat_kohli43.png',\n",
       "  './Dataset/cropped/virat_kohli\\\\virat_kohli44.png',\n",
       "  './Dataset/cropped/virat_kohli\\\\virat_kohli45.png',\n",
       "  './Dataset/cropped/virat_kohli\\\\virat_kohli46.png',\n",
       "  './Dataset/cropped/virat_kohli\\\\virat_kohli47.png',\n",
       "  './Dataset/cropped/virat_kohli\\\\virat_kohli48.png',\n",
       "  './Dataset/cropped/virat_kohli\\\\virat_kohli5.png',\n",
       "  './Dataset/cropped/virat_kohli\\\\virat_kohli6.png',\n",
       "  './Dataset/cropped/virat_kohli\\\\virat_kohli7.png',\n",
       "  './Dataset/cropped/virat_kohli\\\\virat_kohli8.png',\n",
       "  './Dataset/cropped/virat_kohli\\\\virat_kohli9.png']}"
      ]
     },
     "execution_count": 113,
     "metadata": {},
     "output_type": "execute_result"
    }
   ],
   "source": [
    "celebrity_file_names_dict = {}\n",
    "for img_dir in cropped_image_dirs:\n",
    "    celebrity_name = img_dir.split('/')[-1]\n",
    "    file_list = []\n",
    "    for entry in os.scandir(img_dir):\n",
    "        file_list.append(entry.path)\n",
    "    celebrity_file_names_dict[celebrity_name] = file_list\n",
    "celebrity_file_names_dict"
   ]
  },
  {
   "cell_type": "code",
   "execution_count": 114,
   "id": "49afa891-8323-4131-9e41-388b93b2d4dc",
   "metadata": {},
   "outputs": [
    {
     "data": {
      "text/plain": [
       "{'lionel_messi': 0,\n",
       " 'maria_sharapova': 1,\n",
       " 'roger_federer': 2,\n",
       " 'serena_williams': 3,\n",
       " 'virat_kohli': 4}"
      ]
     },
     "execution_count": 114,
     "metadata": {},
     "output_type": "execute_result"
    }
   ],
   "source": [
    "class_dict = {}\n",
    "count = 0\n",
    "for celebrity_name in celebrity_file_names_dict.keys():\n",
    "    class_dict[celebrity_name] = count\n",
    "    count = count + 1\n",
    "class_dict"
   ]
  },
  {
   "cell_type": "code",
   "execution_count": 126,
   "id": "997dad1a-9ebd-4178-9601-814c4c88ce2c",
   "metadata": {},
   "outputs": [],
   "source": [
    "X, y = [], []\n",
    "for celebrity_name, training_files in celebrity_file_names_dict.items():\n",
    "    for training_image in training_files:\n",
    "        img = cv2.imread(training_image)\n",
    "        scalled_raw_img = cv2.resize(img, (32, 32))\n",
    "        img_har = w2d(img,'db1',5)\n",
    "        scalled_img_har = cv2.resize(img_har, (32, 32))\n",
    "        combined_img = np.vstack((scalled_raw_img.reshape(32*32*3,1),scalled_img_har.reshape(32*32,1)))\n",
    "        X.append(combined_img)\n",
    "        y.append(class_dict[celebrity_name])  "
   ]
  },
  {
   "cell_type": "code",
   "execution_count": 127,
   "id": "dc9ab013-0814-496d-ac49-b7885e7a678e",
   "metadata": {},
   "outputs": [],
   "source": [
    "X = np.array(X).reshape(len(X), 4096).astype(float)"
   ]
  },
  {
   "cell_type": "code",
   "execution_count": 150,
   "id": "7c98eddf-3375-4828-bf02-1c73b5b7f25c",
   "metadata": {},
   "outputs": [],
   "source": [
    "from sklearn.svm import SVC\n",
    "from sklearn.preprocessing import StandardScaler\n",
    "from sklearn.model_selection import train_test_split\n",
    "from sklearn.pipeline import Pipeline\n",
    "from sklearn.metrics import confusion_matrix\n",
    "from sklearn import svm\n",
    "from sklearn.ensemble import RandomForestClassifier\n",
    "from sklearn.linear_model import LogisticRegression\n",
    "from sklearn.pipeline import make_pipeline\n",
    "from sklearn.model_selection import GridSearchCV\n",
    "import pandas as pd\n",
    "import seaborn as sn\n",
    "import joblib\n",
    "import json"
   ]
  },
  {
   "cell_type": "code",
   "execution_count": 144,
   "id": "ad60e950-10d3-4788-9c94-f471e8a7bfce",
   "metadata": {},
   "outputs": [
    {
     "data": {
      "text/plain": [
       "0.7659574468085106"
      ]
     },
     "execution_count": 144,
     "metadata": {},
     "output_type": "execute_result"
    }
   ],
   "source": [
    "X_train, X_test, y_train, y_test = train_test_split(X, y, random_state=0)\n",
    "\n",
    "pipe = Pipeline([('scaler', StandardScaler()), ('svc', SVC(kernel = 'rbf', C = 10))])\n",
    "pipe.fit(X_train, y_train)\n",
    "pipe.score(X_test, y_test)"
   ]
  },
  {
   "cell_type": "code",
   "execution_count": 137,
   "id": "b398e772-29cb-47fc-b0fe-4423475d3c23",
   "metadata": {},
   "outputs": [],
   "source": [
    "model_params = {\n",
    "    'svm': {\n",
    "        'model': svm.SVC(gamma='auto',probability=True),\n",
    "        'params' : {\n",
    "            'svc__C': [1,10,100,1000],\n",
    "            'svc__kernel': ['rbf','linear']\n",
    "        }  \n",
    "    },\n",
    "    'random_forest': {\n",
    "        'model': RandomForestClassifier(),\n",
    "        'params' : {\n",
    "            'randomforestclassifier__n_estimators': [1,5,10]\n",
    "        }\n",
    "    },\n",
    "    'logistic_regression' : {\n",
    "        'model': LogisticRegression(solver='liblinear',multi_class='auto'),\n",
    "        'params': {\n",
    "            'logisticregression__C': [1,5,10]\n",
    "        }\n",
    "    }\n",
    "}"
   ]
  },
  {
   "cell_type": "code",
   "execution_count": 141,
   "id": "9f2525a3-ad15-40bc-b781-bfa531e9d9ab",
   "metadata": {},
   "outputs": [
    {
     "data": {
      "text/html": [
       "<div>\n",
       "<style scoped>\n",
       "    .dataframe tbody tr th:only-of-type {\n",
       "        vertical-align: middle;\n",
       "    }\n",
       "\n",
       "    .dataframe tbody tr th {\n",
       "        vertical-align: top;\n",
       "    }\n",
       "\n",
       "    .dataframe thead th {\n",
       "        text-align: right;\n",
       "    }\n",
       "</style>\n",
       "<table border=\"1\" class=\"dataframe\">\n",
       "  <thead>\n",
       "    <tr style=\"text-align: right;\">\n",
       "      <th></th>\n",
       "      <th>model</th>\n",
       "      <th>best_score</th>\n",
       "      <th>best_params</th>\n",
       "    </tr>\n",
       "  </thead>\n",
       "  <tbody>\n",
       "    <tr>\n",
       "      <th>0</th>\n",
       "      <td>svm</td>\n",
       "      <td>0.763228</td>\n",
       "      <td>{'svc__C': 1, 'svc__kernel': 'linear'}</td>\n",
       "    </tr>\n",
       "    <tr>\n",
       "      <th>1</th>\n",
       "      <td>random_forest</td>\n",
       "      <td>0.646825</td>\n",
       "      <td>{'randomforestclassifier__n_estimators': 10}</td>\n",
       "    </tr>\n",
       "    <tr>\n",
       "      <th>2</th>\n",
       "      <td>logistic_regression</td>\n",
       "      <td>0.770106</td>\n",
       "      <td>{'logisticregression__C': 1}</td>\n",
       "    </tr>\n",
       "  </tbody>\n",
       "</table>\n",
       "</div>"
      ],
      "text/plain": [
       "                 model  best_score  \\\n",
       "0                  svm    0.763228   \n",
       "1        random_forest    0.646825   \n",
       "2  logistic_regression    0.770106   \n",
       "\n",
       "                                    best_params  \n",
       "0        {'svc__C': 1, 'svc__kernel': 'linear'}  \n",
       "1  {'randomforestclassifier__n_estimators': 10}  \n",
       "2                  {'logisticregression__C': 1}  "
      ]
     },
     "execution_count": 141,
     "metadata": {},
     "output_type": "execute_result"
    }
   ],
   "source": [
    "scores = []\n",
    "best_estimators = {}\n",
    "for algo, mp in model_params.items():\n",
    "    pipe = make_pipeline(StandardScaler(), mp['model'])\n",
    "    clf =  GridSearchCV(pipe, mp['params'], cv=5, return_train_score=False)\n",
    "    clf.fit(X_train, y_train)\n",
    "    scores.append({\n",
    "        'model': algo,\n",
    "        'best_score': clf.best_score_,\n",
    "        'best_params': clf.best_params_\n",
    "    })\n",
    "    best_estimators[algo] = clf.best_estimator_\n",
    "    \n",
    "df = pd.DataFrame(scores,columns=['model','best_score','best_params'])\n",
    "df"
   ]
  },
  {
   "cell_type": "code",
   "execution_count": 142,
   "id": "9aabd266-34cb-4ac7-a6da-95ef63b5d7c8",
   "metadata": {},
   "outputs": [],
   "source": [
    "best_clf = best_estimators['logistic_regression']"
   ]
  },
  {
   "cell_type": "code",
   "execution_count": 145,
   "id": "44d7f598-9a49-4967-9651-1e2c5f1d791e",
   "metadata": {},
   "outputs": [
    {
     "data": {
      "text/plain": [
       "array([[ 8,  0,  1,  0,  1],\n",
       "       [ 1,  5,  0,  1,  0],\n",
       "       [ 1,  0,  5,  0,  0],\n",
       "       [ 0,  2,  1,  7,  0],\n",
       "       [ 1,  1,  1,  0, 11]], dtype=int64)"
      ]
     },
     "execution_count": 145,
     "metadata": {},
     "output_type": "execute_result"
    }
   ],
   "source": [
    "cm = confusion_matrix(y_test, best_clf.predict(X_test))\n",
    "cm"
   ]
  },
  {
   "cell_type": "code",
   "execution_count": 147,
   "id": "0ee3a8eb-0b01-4df2-9d22-e5355529c94f",
   "metadata": {},
   "outputs": [
    {
     "data": {
      "text/plain": [
       "Text(95.72222222222221, 0.5, 'Truth')"
      ]
     },
     "execution_count": 147,
     "metadata": {},
     "output_type": "execute_result"
    },
    {
     "data": {
      "image/png": "[encoded data removed]",
      "text/plain": [
       "<Figure size 1000x700 with 2 Axes>"
      ]
     },
     "metadata": {},
     "output_type": "display_data"
    }
   ],
   "source": [
    "plt.figure(figsize = (10,7))\n",
    "sn.heatmap(cm, annot=True)\n",
    "plt.xlabel('Predicted')\n",
    "plt.ylabel('Truth')"
   ]
  },
  {
   "cell_type": "code",
   "execution_count": 152,
   "id": "f22a3af4-fba8-4862-aa76-8d6ab7c2563f",
   "metadata": {},
   "outputs": [
    {
     "data": {
      "text/plain": [
       "['saved_model.pkl']"
      ]
     },
     "execution_count": 152,
     "metadata": {},
     "output_type": "execute_result"
    }
   ],
   "source": [
    "!pip install joblib\n",
    "import joblib \n",
    "# Save the model as a pickle in a file \n",
    "joblib.dump(best_clf, 'saved_model.pkl') "
   ]
  },
  {
   "cell_type": "code",
   "execution_count": 153,
   "id": "738803e6-f132-42ca-bc1e-35d9ebf8923a",
   "metadata": {},
   "outputs": [],
   "source": [
    "with open(\"class_dictionary.json\", \"w\") as f:\n",
    "    f.write(json.dumps(class_dict))"
   ]
  },
  {
   "cell_type": "code",
   "execution_count": null,
   "id": "61506ac5-922f-42f0-8cde-f9742f03c0c1",
   "metadata": {},
   "outputs": [],
   "source": []
  }
 ],
 "metadata": {
  "kernelspec": {
   "display_name": "Python 3 (ipykernel)",
   "language": "python",
   "name": "python3"
  },
  "language_info": {
   "codemirror_mode": {
    "name": "ipython",
    "version": 3
   },
   "file_extension": ".py",
   "mimetype": "text/x-python",
   "name": "python",
   "nbconvert_exporter": "python",
   "pygments_lexer": "ipython3",
   "version": "3.11.9"
  }
 },
 "nbformat": 4,
 "nbformat_minor": 5
}
